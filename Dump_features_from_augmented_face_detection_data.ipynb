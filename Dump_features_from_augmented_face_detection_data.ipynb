{
  "cells": [
    {
      "cell_type": "code",
      "execution_count": null,
      "metadata": {
        "id": "pmn9gCJMme4R"
      },
      "outputs": [],
      "source": [
        "import imageio\n",
        "from matplotlib.pyplot import imshow\n",
        "import matplotlib.pyplot as plt\n",
        "import cv2\n",
        "import numpy as np\n",
        "from sklearn.preprocessing import LabelEncoder\n",
        "from sklearn.decomposition import PCA\n",
        "from sklearn.svm import SVC\n",
        "from sklearn.model_selection import train_test_split\n",
        "from sklearn.metrics import classification_report\n",
        "from os import listdir\n",
        "from os.path import isfile, join\n",
        "from google.colab.patches import cv2_imshow\n",
        "import random"
      ]
    },
    {
      "cell_type": "code",
      "execution_count": null,
      "metadata": {
        "colab": {
          "base_uri": "https://localhost:8080/"
        },
        "id": "torxh_tmTt9r",
        "outputId": "c3daa209-8be7-44ff-f296-fb564b00d750"
      },
      "outputs": [
        {
          "name": "stdout",
          "output_type": "stream",
          "text": [
            "Mounted at /content/drive\n"
          ]
        }
      ],
      "source": [
        "\"\"\"\n",
        "Mounting the Google drive\n",
        "\"\"\"\n",
        "from google.colab import drive\n",
        "drive.mount('/content/drive')\n",
        "root_path = \"/content/drive/MyDrive/Colab Notebooks/COEN240_TA/\"\n",
        "train_path = root_path + \"train/\"\n",
        "validate_path = root_path + \"validate/\""
      ]
    },
    {
      "cell_type": "code",
      "execution_count": null,
      "metadata": {
        "id": "2BtiVBaT9jks"
      },
      "outputs": [],
      "source": [
        "# ##VALIDATION\n",
        "\n",
        "label_encoder = LabelEncoder()\n",
        "\n",
        "data = []\n",
        "labels = []\n",
        "index = 0\n",
        "for folder in listdir(validate_path):\n",
        "  if isfile(join(validate_path, folder)):\n",
        "    continue\n",
        "  index += 1\n",
        "  if folder.endswith(\"npy\"):\n",
        "    continue\n",
        "  label = folder[:-1]\n",
        "  print(index, label)\n",
        "  folder_path = join(validate_path, folder)\n",
        "  for image_name in listdir(folder_path):\n",
        "    image = cv2.imread(join(folder_path, image_name))\n",
        "    image_grey = cv2.cvtColor(image, cv2.COLOR_BGR2GRAY)\n",
        "    flattened_image = image_grey.flatten()\n",
        "    labels.append(label)\n",
        "    data.append(flattened_image)\n",
        "\n",
        "labels = label_encoder.fit_transform(labels)\n",
        "data = np.array(data)\n",
        "labels = np.array(labels)\n",
        "ind_list = [i for i in range(labels.shape[0])]\n",
        "random.shuffle(ind_list)\n",
        "data = data[ind_list, :]\n",
        "labels = labels[ind_list]\n",
        "print(data.shape, labels.shape)\n",
        "\n",
        "with open(validate_path + 'validate_cleaned_final.npy', 'wb') as f:\n",
        "    np.save(f, data)\n",
        "    np.save(f, labels)\n",
        "\n",
        "\n"
      ]
    },
    {
      "cell_type": "code",
      "execution_count": null,
      "metadata": {
        "colab": {
          "base_uri": "https://localhost:8080/"
        },
        "id": "tdGj2FNn5Ybh",
        "outputId": "63cdf491-1320-4f65-a96a-e38fd95625b5"
      },
      "outputs": [
        {
          "name": "stdout",
          "output_type": "stream",
          "text": [
            "1 wukaiyue\n",
            "2 vanderlindenilona\n",
            "3 zhangyuanzhen\n",
            "4 liuhongji\n",
            "5 lozanoroberto\n",
            "6 yashasvi\n",
            "7 huangjiaoyan\n",
            "8 manglaniroshanlakhi\n",
            "9 somaniachal\n",
            "10 zotaharsh\n",
            "11 pereiranerissagodfrey\n",
            "12 zuluagagonzalezisabel\n",
            "13 lishumeng\n",
            "14 ravijayanthidhanasekar\n",
            "15 oraisisaac\n",
            "16 kodipunzulanandini\n",
            "17 chientingwei\n",
            "18 amarisian\n",
            "19 zhouchuandi\n",
            "20 vennavellirajashekarreddy\n",
            "21 gowdarachandrashekarappasrivarsha\n",
            "22 selinayu\n",
            "23 chenziang\n",
            "24 negiparth\n",
            "25 shahmanali\n",
            "26 sampagaonrahul\n",
            "27 virvadianisargjyotin\n",
            "28 sivarajusairevanth\n",
            "29 perambuduruvishnu\n",
            "30 banmingkai\n",
            "31 mendonakshay\n",
            "32 upadhyevaishnavi\n",
            "(10289, 40000) (10289,)\n"
          ]
        }
      ],
      "source": [
        "\n",
        "\n",
        "train_data = []\n",
        "train_labels = []\n",
        "index = 0\n",
        "for folder in listdir(train_path):\n",
        "  if isfile(join(train_path, folder)):\n",
        "    continue\n",
        "  index += 1\n",
        "  if folder.endswith(\"npy\"):\n",
        "    continue\n",
        "  label = folder[:-1]\n",
        "  print(index, label)\n",
        "  folder_path = join(train_path, folder)\n",
        "  for image_name in listdir(folder_path):\n",
        "    image = cv2.imread(join(folder_path, image_name))\n",
        "    image_grey = cv2.cvtColor(image, cv2.COLOR_BGR2GRAY)\n",
        "    flattened_image = image_grey.flatten()\n",
        "    train_labels.append(label)\n",
        "    train_data.append(flattened_image)\n",
        "\n",
        "train_labels = label_encoder.fit_transform(train_labels)\n",
        "train_data = np.array(train_data)\n",
        "train_labels = np.array(train_labels)\n",
        "ind_list = [i for i in range(train_labels.shape[0])]\n",
        "random.shuffle(ind_list)\n",
        "train_data = train_data[ind_list, :]\n",
        "train_labels = train_labels[ind_list]\n",
        "print(train_data.shape, train_labels.shape)\n",
        "\n",
        "with open(train_path + 'train_cleaned_final.npy', 'wb') as f:\n",
        "    np.save(f, train_data)\n",
        "    np.save(f, train_labels)\n",
        "\n"
      ]
    },
    {
      "cell_type": "code",
      "execution_count": null,
      "metadata": {
        "colab": {
          "base_uri": "https://localhost:8080/"
        },
        "id": "WAT_E0cRa1o8",
        "outputId": "7b92f1d3-79dd-42a8-9ba4-082e28a9056b"
      },
      "outputs": [
        {
          "name": "stdout",
          "output_type": "stream",
          "text": [
            "(10289, 40000) (10289,) (1781, 40000) (1781,)\n",
            "(10289, 40000)\n"
          ]
        }
      ],
      "source": [
        "# split = train_test_split(faces_data, face_vector, labels, test_size=0.2,\n",
        "# \tstratify=labels, random_state=42)\n",
        "# (origTrain, origTest, trainX, testX, trainY, testY) = split\n",
        "with open(train_path + 'train_cleaned_final.npy', 'rb') as f:\n",
        "    trainX = np.load(f)\n",
        "    trainY = np.load(f)\n",
        "\n",
        "with open(validate_path + 'validate_cleaned_final.npy', 'rb') as f:\n",
        "    testX = np.load(f)\n",
        "    testY = np.load(f)\n",
        "\n",
        "print(trainX.shape, trainY.shape, testX.shape, testY.shape)\n",
        "print(trainX.shape)\n",
        "# uncleaned_train\n",
        "# manali_cleaned_validate.npy\n"
      ]
    },
    {
      "cell_type": "code",
      "execution_count": null,
      "metadata": {
        "colab": {
          "base_uri": "https://localhost:8080/"
        },
        "id": "vP72beAKkrkg",
        "outputId": "4c97499f-3a16-4295-878c-1a287a044d84"
      },
      "outputs": [
        {
          "name": "stdout",
          "output_type": "stream",
          "text": [
            "251\n"
          ]
        }
      ],
      "source": [
        "print(max(testX[4]))"
      ]
    }
  ],
  "metadata": {
    "colab": {
      "provenance": []
    },
    "kernelspec": {
      "display_name": "Python 3 (ipykernel)",
      "language": "python",
      "name": "python3"
    },
    "language_info": {
      "codemirror_mode": {
        "name": "ipython",
        "version": 3
      },
      "file_extension": ".py",
      "mimetype": "text/x-python",
      "name": "python",
      "nbconvert_exporter": "python",
      "pygments_lexer": "ipython3",
      "version": "3.12.1"
    }
  },
  "nbformat": 4,
  "nbformat_minor": 0
}
