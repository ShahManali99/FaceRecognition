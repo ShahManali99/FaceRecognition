{
  "nbformat": 4,
  "nbformat_minor": 0,
  "metadata": {
    "colab": {
      "provenance": []
    },
    "kernelspec": {
      "name": "python3",
      "display_name": "Python 3"
    },
    "language_info": {
      "name": "python"
    }
  },
  "cells": [
    {
      "cell_type": "code",
      "source": [
        "\"\"\"\n",
        "Mounting the Google drive\n",
        "\"\"\"\n",
        "from google.colab import drive\n",
        "drive.mount('/content/drive')\n",
        "\n",
        "root_path = \"/content/drive/MyDrive/Colab Notebooks/COEN240_TA/data\"\n",
        "train_path = root_path + \"/train\"\n",
        "grade_path = root_path + \"/grade\""
      ],
      "metadata": {
        "id": "j1ARMc1n8aOO",
        "colab": {
          "base_uri": "https://localhost:8080/"
        },
        "outputId": "63a57951-4b89-49fd-b844-445f6a6a8f52"
      },
      "execution_count": 6,
      "outputs": [
        {
          "output_type": "stream",
          "name": "stdout",
          "text": [
            "Drive already mounted at /content/drive; to attempt to forcibly remount, call drive.mount(\"/content/drive\", force_remount=True).\n"
          ]
        }
      ]
    },
    {
      "cell_type": "code",
      "source": [
        "import joblib\n",
        "import os\n",
        "pca = joblib.load(os.path.join(train_path, 'pca_model.sav'))\n",
        "lda = joblib.load(os.path.join(train_path, 'lda_model.sav'))"
      ],
      "metadata": {
        "id": "Hr07OhQs81Bc"
      },
      "execution_count": 7,
      "outputs": []
    },
    {
      "cell_type": "code",
      "source": [
        "import pickle\n",
        "import os\n",
        "\n",
        "ensemble1_path = os.path.join(train_path, 'ensemble_model1.pkl')\n",
        "ensemble2_path = os.path.join(train_path, 'ensemble_model2.pkl')\n",
        "\n",
        "# Load the pickle file\n",
        "# Load the pickle file\n",
        "# with open(ensemble1_path, 'rb') as file:\n",
        "#     ensemble1 = pickle.load(file)\n",
        "\n",
        "with open(ensemble2_path, 'rb') as file:\n",
        "    ensemble2 = pickle.load(file)"
      ],
      "metadata": {
        "id": "rrbc7r8tEyga"
      },
      "execution_count": 10,
      "outputs": []
    },
    {
      "cell_type": "code",
      "source": [
        "def face_box(image):\n",
        "    face_cascade = cv2.CascadeClassifier(cv2.data.haarcascades + 'haarcascade_frontalface_default.xml')\n",
        "    faces_detected = face_cascade.detectMultiScale(image, scaleFactor=1.1, minNeighbors=5)\n",
        "    for (x, y, w, h) in faces_detected:\n",
        "      image_face = image[y:y+h, x:x+w]\n",
        "      resized_image_face = cv2.resize(image_face, (200, 200))\n",
        "      return resized_image_face"
      ],
      "metadata": {
        "id": "1r29xDMqA2cW"
      },
      "execution_count": 11,
      "outputs": []
    },
    {
      "cell_type": "code",
      "source": [
        "from sklearn.preprocessing import LabelEncoder\n",
        "label_encoder = LabelEncoder()\n",
        "\n",
        "labels = []\n",
        "d = {}\n",
        "for folder in os.listdir(train_path):\n",
        "  if os.path.isfile(os.path.join(train_path, folder)):\n",
        "    continue\n",
        "  if folder.endswith(\"npy\"):\n",
        "    continue\n",
        "  label = folder[:-1]\n",
        "  labels.append(label)\n",
        "\n",
        "encoded_labels = label_encoder.fit_transform(labels)\n",
        "for label, encoded_label in zip(labels, encoded_labels):\n",
        "    d[encoded_label] = label\n",
        "labels = encoded_labels"
      ],
      "metadata": {
        "id": "hOcAlpZkAZsh"
      },
      "execution_count": 12,
      "outputs": []
    },
    {
      "cell_type": "code",
      "execution_count": 43,
      "metadata": {
        "id": "VkjfLtib7gXr",
        "colab": {
          "base_uri": "https://localhost:8080/"
        },
        "outputId": "f01f0b75-b05b-4660-eaac-18a87a559623"
      },
      "outputs": [
        {
          "output_type": "stream",
          "name": "stdout",
          "text": [
            "0123_2.jpeg\n",
            "vanderlindenilona\n",
            "0123_1.jpeg\n",
            "wukaiyue\n",
            "0123_3.jpeg\n",
            "zhangyuanzhen\n",
            "Predictions saved to: /content/drive/MyDrive/Colab Notebooks/COEN240_TA/data/grade/predictions.csv\n"
          ]
        }
      ],
      "source": [
        "import os\n",
        "import cv2\n",
        "import numpy as np\n",
        "import pickle\n",
        "from google.colab.patches import cv2_imshow\n",
        "import pandas as pd\n",
        "from os.path import isfile, join\n",
        "\n",
        "# Path to the folder containing test images\n",
        "test_images_folder = grade_path\n",
        "\n",
        "# Get the list of test image filenames\n",
        "test_image_files = os.listdir(test_images_folder)\n",
        "\n",
        "# Initialize lists to store filenames and predictions\n",
        "filenames = []\n",
        "predictions = []\n",
        "\n",
        "# Initialize list to store preprocessed face images\n",
        "preprocessed_images = []\n",
        "image_files = []\n",
        "final_predictions = {}\n",
        "# Iterate over each test image\n",
        "for image_file in test_image_files:\n",
        "    if not image_file.endswith(\"jpeg\"):\n",
        "      continue\n",
        "    if not isfile(os.path.join(grade_path, image_file)):\n",
        "      continue\n",
        "    image_files.append(image_file)\n",
        "    # Load the test image\n",
        "    image_path = os.path.join(test_images_folder, image_file)\n",
        "    image = cv2.imread(image_path)\n",
        "    print(image_file)\n",
        "\n",
        "    face_cropped_image = face_box(image)\n",
        "    if face_cropped_image is None:\n",
        "      face_cropped_image = cv2.resize(image, (200, 200))\n",
        "    image_grey = cv2.cvtColor(face_cropped_image, cv2.COLOR_BGR2GRAY)\n",
        "    flattened_image = [image_grey.flatten()]\n",
        "    image_pca = pca.transform(flattened_image)\n",
        "    image_lda = lda.transform(image_pca)\n",
        "    pred = ensemble2.predict(image_lda)\n",
        "    predictions.append(d[pred[0]])\n",
        "    print(d[pred[0]])\n",
        "    final_predictions[image_file] = d[pred[0]]\n",
        "\n",
        "# Create a DataFrame with filenames and predictions\n",
        "data = {'filename': image_files, 'predictions': predictions}\n",
        "df = pd.DataFrame(data)\n",
        "\n",
        "# Save the DataFrame to a CSV file\n",
        "csv_file_path = os.path.join(grade_path, 'predictions.csv')\n",
        "df.to_csv(csv_file_path, index=False)\n",
        "\n",
        "print(\"Predictions saved to:\", csv_file_path)"
      ]
    },
    {
      "cell_type": "code",
      "source": [
        "def calculate_accuracy(ground_truths, predictions):\n",
        "    if len(ground_truths) != len(predictions):\n",
        "        raise ValueError(\"The number of predictions does not match the number of ground truths.\")\n",
        "    correct_predictions = 0\n",
        "    for sample_id, ground_truth in ground_truths.items():\n",
        "        if predictions.get(sample_id) == ground_truth:\n",
        "            correct_predictions += 1\n",
        "    return correct_predictions / len(ground_truths)\n",
        "\n",
        "def grade_predictions(predictions, grade_path=grade_path):\n",
        "    df = pd.read_csv(grade_path + \"/solution.csv\")\n",
        "    ground_truths = dict(zip(df['filename'], df['ground_truth']))\n",
        "    accuracy = calculate_accuracy(ground_truths, predictions)\n",
        "    return accuracy\n",
        "\n",
        "accuracy = grade_predictions(final_predictions)\n",
        "print(f\"Prediction Accuracy: {accuracy * 100}%\")"
      ],
      "metadata": {
        "id": "GDE0lxbwHQlo",
        "colab": {
          "base_uri": "https://localhost:8080/"
        },
        "outputId": "0a888b34-57cc-466c-e587-94b2feb6b9c6"
      },
      "execution_count": 44,
      "outputs": [
        {
          "output_type": "stream",
          "name": "stdout",
          "text": [
            "Prediction Accuracy: 100.0%\n"
          ]
        }
      ]
    }
  ]
}